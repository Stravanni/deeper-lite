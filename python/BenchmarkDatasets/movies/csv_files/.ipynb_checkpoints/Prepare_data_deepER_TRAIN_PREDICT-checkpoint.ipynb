{
 "cells": [
  {
   "cell_type": "markdown",
   "metadata": {},
   "source": [
    "# Prepare data for DeepER\n",
    "- https://sites.google.com/site/anhaidgroup/useful-stuff/data"
   ]
  },
  {
   "cell_type": "code",
   "execution_count": 89,
   "metadata": {},
   "outputs": [],
   "source": [
    "import pandas as pd"
   ]
  },
  {
   "cell_type": "code",
   "execution_count": 77,
   "metadata": {},
   "outputs": [],
   "source": [
    "file_a = \"roger_ebert.csv\"\n",
    "file_b = \"imdb.csv\""
   ]
  },
  {
   "cell_type": "code",
   "execution_count": 78,
   "metadata": {},
   "outputs": [],
   "source": [
    "df_a = pd.read_csv(file_a, encoding='utf-8')\n",
    "df_b = pd.read_csv(file_b, encoding='utf-8')"
   ]
  },
  {
   "cell_type": "code",
   "execution_count": 79,
   "metadata": {},
   "outputs": [],
   "source": [
    "attr_a = set(df_a.columns)\n",
    "attr_b = set(df_b.columns)"
   ]
  },
  {
   "cell_type": "code",
   "execution_count": 80,
   "metadata": {},
   "outputs": [
    {
     "data": {
      "text/plain": [
       "['genre', 'year', 'actors', 'movie_name', 'directors', 'id', 'duration']"
      ]
     },
     "execution_count": 80,
     "metadata": {},
     "output_type": "execute_result"
    }
   ],
   "source": [
    "cols = list(attr_a.intersection(attr_b))\n",
    "cols"
   ]
  },
  {
   "cell_type": "code",
   "execution_count": 90,
   "metadata": {},
   "outputs": [],
   "source": [
    "# Use only common columns\n",
    "df_a = df_a[cols]\n",
    "df_b = df_b[cols]"
   ]
  },
  {
   "cell_type": "code",
   "execution_count": 84,
   "metadata": {},
   "outputs": [],
   "source": [
    "df_a.to_csv(\"dataset_a.csv\",\n",
    "            encoding=\"utf8\",\n",
    "            index=False)"
   ]
  },
  {
   "cell_type": "code",
   "execution_count": 83,
   "metadata": {},
   "outputs": [],
   "source": [
    "df_b.to_csv(\"dataset_b.csv\",\n",
    "            encoding=\"utf8\",\n",
    "            index=False)"
   ]
  },
  {
   "cell_type": "markdown",
   "metadata": {},
   "source": [
    "## labeled data\n",
    "- **names**: at the end, the cols names should be: [\"ltable_id\",\"rtable_id\",\"gold\"]\n",
    "    - **note**: other data set in the Magellan repo may have different names"
   ]
  },
  {
   "cell_type": "code",
   "execution_count": 91,
   "metadata": {},
   "outputs": [],
   "source": [
    "file_l = \"labeled_data.csv\"\n",
    "df_l = pd.read_csv(file_l, encoding='utf-8')\n",
    "df_l = df_l[[\"ltable.id\",\"rtable.id\",\"gold\"]]\n",
    "df_l.columns = [[\"ltable_id\",\"rtable_id\",\"gold\"]]"
   ]
  },
  {
   "cell_type": "code",
   "execution_count": 92,
   "metadata": {},
   "outputs": [],
   "source": [
    "df_l.to_csv(\"candset_ids_only.csv\",\n",
    "            encoding=\"utf8\",\n",
    "            index=False)"
   ]
  },
  {
   "cell_type": "markdown",
   "metadata": {},
   "source": [
    "## candidates\n",
    "- for minimizing changes in the DeepER code, I just add a column \"gold\" = 0, which is actually never used\n",
    "    - **If the ground truth is available**: insert that here (0=\"not a match\", 1=\"match\")"
   ]
  },
  {
   "cell_type": "code",
   "execution_count": 93,
   "metadata": {},
   "outputs": [],
   "source": [
    "file_c = \"candset.csv\"\n",
    "df_c = pd.read_csv(file_c, encoding='utf-8')\n",
    "df_c = df_c[[\"ltable.id\",\"rtable.id\"]]\n",
    "df_c.columns = [[\"ltable_id\",\"rtable_id\"]]\n",
    "df_c[\"gold\"] = 0"
   ]
  },
  {
   "cell_type": "code",
   "execution_count": 94,
   "metadata": {},
   "outputs": [],
   "source": [
    "df_c.to_csv(\"predict.csv\",\n",
    "            encoding=\"utf8\",\n",
    "            index=False)"
   ]
  },
  {
   "cell_type": "code",
   "execution_count": null,
   "metadata": {},
   "outputs": [],
   "source": []
  },
  {
   "cell_type": "code",
   "execution_count": null,
   "metadata": {},
   "outputs": [],
   "source": []
  },
  {
   "cell_type": "code",
   "execution_count": null,
   "metadata": {},
   "outputs": [],
   "source": []
  }
 ],
 "metadata": {
  "kernelspec": {
   "display_name": "Python 3",
   "language": "python",
   "name": "python3"
  },
  "language_info": {
   "codemirror_mode": {
    "name": "ipython",
    "version": 3
   },
   "file_extension": ".py",
   "mimetype": "text/x-python",
   "name": "python",
   "nbconvert_exporter": "python",
   "pygments_lexer": "ipython3",
   "version": "3.6.6"
  },
  "toc": {
   "base_numbering": 1,
   "nav_menu": {},
   "number_sections": false,
   "sideBar": false,
   "skip_h1_title": false,
   "title_cell": "Table of Contents",
   "title_sidebar": "Contents",
   "toc_cell": false,
   "toc_position": {},
   "toc_section_display": false,
   "toc_window_display": false
  }
 },
 "nbformat": 4,
 "nbformat_minor": 2
}
